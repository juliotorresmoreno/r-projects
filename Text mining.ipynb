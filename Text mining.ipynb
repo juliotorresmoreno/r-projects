{
 "cells": [
  {
   "cell_type": "code",
   "execution_count": 11,
   "metadata": {},
   "outputs": [],
   "source": [
    "probando = function() {\n",
    "    return (1+1)\n",
    "}"
   ]
  },
  {
   "cell_type": "code",
   "execution_count": 9,
   "metadata": {},
   "outputs": [
    {
     "data": {
      "text/html": [
       "2"
      ],
      "text/latex": [
       "2"
      ],
      "text/markdown": [
       "2"
      ],
      "text/plain": [
       "[1] 2"
      ]
     },
     "metadata": {},
     "output_type": "display_data"
    }
   ],
   "source": [
    "probando()"
   ]
  },
  {
   "cell_type": "code",
   "execution_count": 12,
   "metadata": {},
   "outputs": [],
   "source": [
    "vect1 = rnorm(50)"
   ]
  },
  {
   "cell_type": "code",
   "execution_count": 13,
   "metadata": {},
   "outputs": [
    {
     "data": {
      "text/html": [
       "<ol class=list-inline>\n",
       "\t<li>0.585206363404132</li>\n",
       "\t<li>1.95248009165529</li>\n",
       "\t<li>0.948600909183068</li>\n",
       "\t<li>0.541463557496661</li>\n",
       "\t<li>0.487740085369756</li>\n",
       "\t<li>-0.0975267149103512</li>\n",
       "\t<li>-1.07868803742029</li>\n",
       "\t<li>0.220151518574997</li>\n",
       "\t<li>-0.217434796376669</li>\n",
       "\t<li>-0.17579008858929</li>\n",
       "\t<li>-1.42757844568375</li>\n",
       "\t<li>-0.329703764710879</li>\n",
       "\t<li>1.9936271043576</li>\n",
       "\t<li>-0.319352513562169</li>\n",
       "\t<li>-0.416613825715812</li>\n",
       "\t<li>-1.35804875067751</li>\n",
       "\t<li>1.57641905205385</li>\n",
       "\t<li>0.259010232121459</li>\n",
       "\t<li>2.35730213600011</li>\n",
       "\t<li>-0.132290829540357</li>\n",
       "\t<li>0.0137106525060058</li>\n",
       "\t<li>0.768047642668268</li>\n",
       "\t<li>-0.505207069665586</li>\n",
       "\t<li>2.17180864437001</li>\n",
       "\t<li>-0.120214768381157</li>\n",
       "\t<li>-0.423942274155083</li>\n",
       "\t<li>1.7398728535981</li>\n",
       "\t<li>1.26226160867247</li>\n",
       "\t<li>-1.35784005732513</li>\n",
       "\t<li>-1.19983724761024</li>\n",
       "\t<li>-0.523703573623373</li>\n",
       "\t<li>0.469157137326554</li>\n",
       "\t<li>1.07149104293289</li>\n",
       "\t<li>0.271623617978704</li>\n",
       "\t<li>1.09526324709879</li>\n",
       "\t<li>-0.222299716055665</li>\n",
       "\t<li>1.122190778382</li>\n",
       "\t<li>-0.19375315313009</li>\n",
       "\t<li>0.0883401008785491</li>\n",
       "\t<li>1.5395483394061</li>\n",
       "\t<li>1.37833878750932</li>\n",
       "\t<li>1.11136862225008</li>\n",
       "\t<li>-0.058671977482092</li>\n",
       "\t<li>2.01979814890917</li>\n",
       "\t<li>-0.32231363684428</li>\n",
       "\t<li>0.656719336940545</li>\n",
       "\t<li>-0.552922418717132</li>\n",
       "\t<li>-0.499427069267625</li>\n",
       "\t<li>0.795280761812697</li>\n",
       "\t<li>-1.27792587773518</li>\n",
       "</ol>\n"
      ],
      "text/latex": [
       "\\begin{enumerate*}\n",
       "\\item 0.585206363404132\n",
       "\\item 1.95248009165529\n",
       "\\item 0.948600909183068\n",
       "\\item 0.541463557496661\n",
       "\\item 0.487740085369756\n",
       "\\item -0.0975267149103512\n",
       "\\item -1.07868803742029\n",
       "\\item 0.220151518574997\n",
       "\\item -0.217434796376669\n",
       "\\item -0.17579008858929\n",
       "\\item -1.42757844568375\n",
       "\\item -0.329703764710879\n",
       "\\item 1.9936271043576\n",
       "\\item -0.319352513562169\n",
       "\\item -0.416613825715812\n",
       "\\item -1.35804875067751\n",
       "\\item 1.57641905205385\n",
       "\\item 0.259010232121459\n",
       "\\item 2.35730213600011\n",
       "\\item -0.132290829540357\n",
       "\\item 0.0137106525060058\n",
       "\\item 0.768047642668268\n",
       "\\item -0.505207069665586\n",
       "\\item 2.17180864437001\n",
       "\\item -0.120214768381157\n",
       "\\item -0.423942274155083\n",
       "\\item 1.7398728535981\n",
       "\\item 1.26226160867247\n",
       "\\item -1.35784005732513\n",
       "\\item -1.19983724761024\n",
       "\\item -0.523703573623373\n",
       "\\item 0.469157137326554\n",
       "\\item 1.07149104293289\n",
       "\\item 0.271623617978704\n",
       "\\item 1.09526324709879\n",
       "\\item -0.222299716055665\n",
       "\\item 1.122190778382\n",
       "\\item -0.19375315313009\n",
       "\\item 0.0883401008785491\n",
       "\\item 1.5395483394061\n",
       "\\item 1.37833878750932\n",
       "\\item 1.11136862225008\n",
       "\\item -0.058671977482092\n",
       "\\item 2.01979814890917\n",
       "\\item -0.32231363684428\n",
       "\\item 0.656719336940545\n",
       "\\item -0.552922418717132\n",
       "\\item -0.499427069267625\n",
       "\\item 0.795280761812697\n",
       "\\item -1.27792587773518\n",
       "\\end{enumerate*}\n"
      ],
      "text/markdown": [
       "1. 0.585206363404132\n",
       "2. 1.95248009165529\n",
       "3. 0.948600909183068\n",
       "4. 0.541463557496661\n",
       "5. 0.487740085369756\n",
       "6. -0.0975267149103512\n",
       "7. -1.07868803742029\n",
       "8. 0.220151518574997\n",
       "9. -0.217434796376669\n",
       "10. -0.17579008858929\n",
       "11. -1.42757844568375\n",
       "12. -0.329703764710879\n",
       "13. 1.9936271043576\n",
       "14. -0.319352513562169\n",
       "15. -0.416613825715812\n",
       "16. -1.35804875067751\n",
       "17. 1.57641905205385\n",
       "18. 0.259010232121459\n",
       "19. 2.35730213600011\n",
       "20. -0.132290829540357\n",
       "21. 0.0137106525060058\n",
       "22. 0.768047642668268\n",
       "23. -0.505207069665586\n",
       "24. 2.17180864437001\n",
       "25. -0.120214768381157\n",
       "26. -0.423942274155083\n",
       "27. 1.7398728535981\n",
       "28. 1.26226160867247\n",
       "29. -1.35784005732513\n",
       "30. -1.19983724761024\n",
       "31. -0.523703573623373\n",
       "32. 0.469157137326554\n",
       "33. 1.07149104293289\n",
       "34. 0.271623617978704\n",
       "35. 1.09526324709879\n",
       "36. -0.222299716055665\n",
       "37. 1.122190778382\n",
       "38. -0.19375315313009\n",
       "39. 0.0883401008785491\n",
       "40. 1.5395483394061\n",
       "41. 1.37833878750932\n",
       "42. 1.11136862225008\n",
       "43. -0.058671977482092\n",
       "44. 2.01979814890917\n",
       "45. -0.32231363684428\n",
       "46. 0.656719336940545\n",
       "47. -0.552922418717132\n",
       "48. -0.499427069267625\n",
       "49. 0.795280761812697\n",
       "50. -1.27792587773518\n",
       "\n",
       "\n"
      ],
      "text/plain": [
       " [1]  0.58520636  1.95248009  0.94860091  0.54146356  0.48774009 -0.09752671\n",
       " [7] -1.07868804  0.22015152 -0.21743480 -0.17579009 -1.42757845 -0.32970376\n",
       "[13]  1.99362710 -0.31935251 -0.41661383 -1.35804875  1.57641905  0.25901023\n",
       "[19]  2.35730214 -0.13229083  0.01371065  0.76804764 -0.50520707  2.17180864\n",
       "[25] -0.12021477 -0.42394227  1.73987285  1.26226161 -1.35784006 -1.19983725\n",
       "[31] -0.52370357  0.46915714  1.07149104  0.27162362  1.09526325 -0.22229972\n",
       "[37]  1.12219078 -0.19375315  0.08834010  1.53954834  1.37833879  1.11136862\n",
       "[43] -0.05867198  2.01979815 -0.32231364  0.65671934 -0.55292242 -0.49942707\n",
       "[49]  0.79528076 -1.27792588"
      ]
     },
     "metadata": {},
     "output_type": "display_data"
    }
   ],
   "source": [
    "vect1"
   ]
  },
  {
   "cell_type": "code",
   "execution_count": 14,
   "metadata": {},
   "outputs": [
    {
     "data": {
      "image/png": "[encoded data removed]",
      "text/plain": [
       "Plot with title “Histogram of vect1”"
      ]
     },
     "metadata": {},
     "output_type": "display_data"
    }
   ],
   "source": [
    "hist(vect1)"
   ]
  },
  {
   "cell_type": "code",
   "execution_count": null,
   "metadata": {},
   "outputs": [],
   "source": []
  },
  {
   "cell_type": "code",
   "execution_count": null,
   "metadata": {},
   "outputs": [],
   "source": []
  },
  {
   "cell_type": "code",
   "execution_count": null,
   "metadata": {},
   "outputs": [],
   "source": []
  }
 ],
 "metadata": {
  "kernelspec": {
   "display_name": "R",
   "language": "R",
   "name": "ir"
  },
  "language_info": {
   "codemirror_mode": "r",
   "file_extension": ".r",
   "mimetype": "text/x-r-source",
   "name": "R",
   "pygments_lexer": "r",
   "version": "3.4.3"
  }
 },
 "nbformat": 4,
 "nbformat_minor": 2
}
